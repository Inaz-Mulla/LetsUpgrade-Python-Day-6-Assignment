{
 "cells": [
  {
   "cell_type": "code",
   "execution_count": 27,
   "metadata": {},
   "outputs": [],
   "source": [
    "import math\n",
    "\n",
    "pi = math.pi\n",
    "\n",
    "class cone:\n",
    "    def __init__(self, r, h):\n",
    "        self.r = r\n",
    "        self.h = h\n",
    "        \n",
    "    def volume(self):\n",
    "        result = (1/3) * pi * self.r * self.r * self.h\n",
    "        print(\"Volume of cone is - \",result)\n",
    "        \n",
    "    def surfacearea(self):\n",
    "        result = pi * self.r * self.r * self.h + pi * self.r * self.r\n",
    "        print(\"Surface area of cone is - \", result)"
   ]
  },
  {
   "cell_type": "code",
   "execution_count": 28,
   "metadata": {},
   "outputs": [
    {
     "name": "stdout",
     "output_type": "stream",
     "text": [
      "Enter radius of cone - 4\n",
      "Enter height of cone - 5\n",
      "Volume of cone is -  83.7758040957278\n",
      "Surface area of cone is -  301.59289474462014\n"
     ]
    }
   ],
   "source": [
    "radius = float(input(\"Enter radius of cone - \"))\n",
    "height = float(input(\"Enter height of cone - \"))\n",
    "\n",
    "c = cone(radius, height)\n",
    "c.volume()\n",
    "c.surfacearea()"
   ]
  },
  {
   "cell_type": "code",
   "execution_count": null,
   "metadata": {},
   "outputs": [],
   "source": []
  },
  {
   "cell_type": "code",
   "execution_count": null,
   "metadata": {},
   "outputs": [],
   "source": []
  },
  {
   "cell_type": "code",
   "execution_count": null,
   "metadata": {},
   "outputs": [],
   "source": []
  }
 ],
 "metadata": {
  "kernelspec": {
   "display_name": "Python 3",
   "language": "python",
   "name": "python3"
  },
  "language_info": {
   "codemirror_mode": {
    "name": "ipython",
    "version": 3
   },
   "file_extension": ".py",
   "mimetype": "text/x-python",
   "name": "python",
   "nbconvert_exporter": "python",
   "pygments_lexer": "ipython3",
   "version": "3.8.3"
  }
 },
 "nbformat": 4,
 "nbformat_minor": 4
}

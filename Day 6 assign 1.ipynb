{
 "cells": [
  {
   "cell_type": "code",
   "execution_count": 1,
   "metadata": {},
   "outputs": [],
   "source": [
    "# class for bank account"
   ]
  },
  {
   "cell_type": "code",
   "execution_count": 1,
   "metadata": {},
   "outputs": [
    {
     "name": "stdout",
     "output_type": "stream",
     "text": [
      "WELCOME BACK TO ACCOUNT PROGRAM --\n",
      "Account Holder Name Is - Inaz Mulla\n",
      "Initial Account Balance Is -  0\n",
      "Enter amount to be deposited - 500\n",
      "Amount deposited is -  500.0\n",
      "Enter amount to be withdrawn - 50\n",
      "You have withdrew -  50.0\n",
      "Net available balance is -  450.0\n"
     ]
    }
   ],
   "source": [
    "class bankAccount:\n",
    "    def __init__(self):\n",
    "        self.ownerName = \"Inaz Mulla\"\n",
    "        self.balance = 0\n",
    "        \n",
    "    def deposit(self):\n",
    "        amount = float(input(\"Enter amount to be deposited - \"))\n",
    "        self.balance += amount\n",
    "        print(\"Amount deposited is - \", amount)\n",
    "    def withdraw(self):\n",
    "        amount = float(input(\"Enter amount to be withdrawn - \"))\n",
    "        \n",
    "        if self.balance >= amount:\n",
    "            self.balance -= amount\n",
    "            print(\"You have withdrew - \", amount)\n",
    "            \n",
    "        else:\n",
    "            print(\"Insufficient balance in account\")\n",
    "            \n",
    "print(\"WELCOME BACK TO ACCOUNT PROGRAM --\")\n",
    "\n",
    "BA = bankAccount()\n",
    "\n",
    "print(\"Account Holder Name Is -\", BA.ownerName)\n",
    "print(\"Initial Account Balance Is - \", BA.balance)\n",
    "\n",
    "BA.deposit();\n",
    "BA.withdraw();\n",
    "\n",
    "print(\"Net available balance is - \", BA.balance)\n"
   ]
  },
  {
   "cell_type": "code",
   "execution_count": null,
   "metadata": {},
   "outputs": [],
   "source": []
  }
 ],
 "metadata": {
  "kernelspec": {
   "display_name": "Python 3",
   "language": "python",
   "name": "python3"
  },
  "language_info": {
   "codemirror_mode": {
    "name": "ipython",
    "version": 3
   },
   "file_extension": ".py",
   "mimetype": "text/x-python",
   "name": "python",
   "nbconvert_exporter": "python",
   "pygments_lexer": "ipython3",
   "version": "3.8.3"
  }
 },
 "nbformat": 4,
 "nbformat_minor": 4
}
